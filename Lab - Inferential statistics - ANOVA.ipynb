{
 "cells": [
  {
   "cell_type": "code",
   "execution_count": 1,
   "id": "42f9ebf5",
   "metadata": {},
   "outputs": [],
   "source": [
    "import pandas as pd\n",
    "import numpy as np\n",
    "#import scikit_posthocs as sp\n",
    "from scipy import stats"
   ]
  },
  {
   "cell_type": "code",
   "execution_count": 2,
   "id": "fb2bf454",
   "metadata": {},
   "outputs": [],
   "source": [
    "df = pd.read_excel(r\"C:\\Users\\s_sad\\Downloads\\anova_lab_data (1).xlsx\")"
   ]
  },
  {
   "cell_type": "code",
   "execution_count": 3,
   "id": "9ca31054",
   "metadata": {},
   "outputs": [
    {
     "data": {
      "text/html": [
       "<div>\n",
       "<style scoped>\n",
       "    .dataframe tbody tr th:only-of-type {\n",
       "        vertical-align: middle;\n",
       "    }\n",
       "\n",
       "    .dataframe tbody tr th {\n",
       "        vertical-align: top;\n",
       "    }\n",
       "\n",
       "    .dataframe thead th {\n",
       "        text-align: right;\n",
       "    }\n",
       "</style>\n",
       "<table border=\"1\" class=\"dataframe\">\n",
       "  <thead>\n",
       "    <tr style=\"text-align: right;\">\n",
       "      <th></th>\n",
       "      <th>Power</th>\n",
       "      <th>Etching Rate</th>\n",
       "    </tr>\n",
       "  </thead>\n",
       "  <tbody>\n",
       "    <tr>\n",
       "      <th>0</th>\n",
       "      <td>160 W</td>\n",
       "      <td>5.43</td>\n",
       "    </tr>\n",
       "    <tr>\n",
       "      <th>1</th>\n",
       "      <td>180 W</td>\n",
       "      <td>6.24</td>\n",
       "    </tr>\n",
       "    <tr>\n",
       "      <th>2</th>\n",
       "      <td>200 W</td>\n",
       "      <td>8.79</td>\n",
       "    </tr>\n",
       "    <tr>\n",
       "      <th>3</th>\n",
       "      <td>160 W</td>\n",
       "      <td>5.71</td>\n",
       "    </tr>\n",
       "    <tr>\n",
       "      <th>4</th>\n",
       "      <td>180 W</td>\n",
       "      <td>6.71</td>\n",
       "    </tr>\n",
       "    <tr>\n",
       "      <th>5</th>\n",
       "      <td>200 W</td>\n",
       "      <td>9.20</td>\n",
       "    </tr>\n",
       "    <tr>\n",
       "      <th>6</th>\n",
       "      <td>160 W</td>\n",
       "      <td>6.22</td>\n",
       "    </tr>\n",
       "    <tr>\n",
       "      <th>7</th>\n",
       "      <td>180 W</td>\n",
       "      <td>5.98</td>\n",
       "    </tr>\n",
       "    <tr>\n",
       "      <th>8</th>\n",
       "      <td>200 W</td>\n",
       "      <td>7.90</td>\n",
       "    </tr>\n",
       "    <tr>\n",
       "      <th>9</th>\n",
       "      <td>160 W</td>\n",
       "      <td>6.01</td>\n",
       "    </tr>\n",
       "    <tr>\n",
       "      <th>10</th>\n",
       "      <td>180 W</td>\n",
       "      <td>5.66</td>\n",
       "    </tr>\n",
       "    <tr>\n",
       "      <th>11</th>\n",
       "      <td>200 W</td>\n",
       "      <td>8.15</td>\n",
       "    </tr>\n",
       "    <tr>\n",
       "      <th>12</th>\n",
       "      <td>160 W</td>\n",
       "      <td>5.59</td>\n",
       "    </tr>\n",
       "    <tr>\n",
       "      <th>13</th>\n",
       "      <td>180 W</td>\n",
       "      <td>6.60</td>\n",
       "    </tr>\n",
       "    <tr>\n",
       "      <th>14</th>\n",
       "      <td>200 W</td>\n",
       "      <td>7.55</td>\n",
       "    </tr>\n",
       "  </tbody>\n",
       "</table>\n",
       "</div>"
      ],
      "text/plain": [
       "   Power   Etching Rate\n",
       "0   160 W          5.43\n",
       "1   180 W          6.24\n",
       "2   200 W          8.79\n",
       "3   160 W          5.71\n",
       "4   180 W          6.71\n",
       "5   200 W          9.20\n",
       "6   160 W          6.22\n",
       "7   180 W          5.98\n",
       "8   200 W          7.90\n",
       "9   160 W          6.01\n",
       "10  180 W          5.66\n",
       "11  200 W          8.15\n",
       "12  160 W          5.59\n",
       "13  180 W          6.60\n",
       "14  200 W          7.55"
      ]
     },
     "execution_count": 3,
     "metadata": {},
     "output_type": "execute_result"
    }
   ],
   "source": [
    "df"
   ]
  },
  {
   "cell_type": "markdown",
   "id": "634cf263",
   "metadata": {},
   "source": [
    "###  Hypothesis:\n",
    "    Null hypothesis: There is no difference in mean of itching rate for different power levels\n",
    "    Alternative Hypothesis: There is difference in mean of itching rate."
   ]
  },
  {
   "cell_type": "code",
   "execution_count": 4,
   "id": "0b362fff",
   "metadata": {},
   "outputs": [],
   "source": [
    "# remove W from Power\n",
    "def remove_symbol(x):\n",
    "    x = x.replace(' W', \"\")\n",
    "    x = x.replace('W', \"\")\n",
    "    x = int(x)\n",
    "\n",
    "    return x"
   ]
  },
  {
   "cell_type": "code",
   "execution_count": 5,
   "id": "7fae7209",
   "metadata": {},
   "outputs": [],
   "source": [
    "df['Power '] = list(map(remove_symbol,df['Power ']))"
   ]
  },
  {
   "cell_type": "code",
   "execution_count": 6,
   "id": "e23d1586",
   "metadata": {},
   "outputs": [],
   "source": [
    "W_160 = df[df['Power '] ==160]\n",
    "W_180 = df[df['Power '] ==180]\n",
    "W_200 = df[df['Power '] ==200]"
   ]
  },
  {
   "cell_type": "code",
   "execution_count": 7,
   "id": "594db70b",
   "metadata": {},
   "outputs": [],
   "source": [
    "W_160 = W_160.drop('Power ', axis=1).to_numpy()\n",
    "W_180 = W_180.drop('Power ', axis=1).to_numpy()\n",
    "W_200 = W_200.drop('Power ', axis=1).to_numpy()"
   ]
  },
  {
   "cell_type": "code",
   "execution_count": 8,
   "id": "206f830e",
   "metadata": {},
   "outputs": [
    {
     "name": "stdout",
     "output_type": "stream",
     "text": [
      "5.792\n",
      "6.2379999999999995\n",
      "8.318\n"
     ]
    }
   ],
   "source": [
    "print(W_160.mean())\n",
    "print(W_180.mean())\n",
    "print(W_200.mean())"
   ]
  },
  {
   "cell_type": "code",
   "execution_count": 9,
   "id": "d9ebe0c7",
   "metadata": {},
   "outputs": [
    {
     "data": {
      "text/plain": [
       "array([7.50658427e-06])"
      ]
     },
     "execution_count": 9,
     "metadata": {},
     "output_type": "execute_result"
    }
   ],
   "source": [
    "F_critical, p_value = stats.f_oneway(W_160, W_180, W_200)\n",
    "p_value"
   ]
  },
  {
   "cell_type": "code",
   "execution_count": 12,
   "id": "ce077dde",
   "metadata": {},
   "outputs": [
    {
     "name": "stdout",
     "output_type": "stream",
     "text": [
      "Reject H0: There is no difference in mean of itching rate for different power levels\n"
     ]
    }
   ],
   "source": [
    "if p_value < 0.05:\n",
    "    print(\"Reject H0: There is no difference in mean of itching rate for different power levels\")\n",
    "else:\n",
    "    print(\"we accept H0: the means are the same\")"
   ]
  },
  {
   "cell_type": "markdown",
   "id": "744d7ef0",
   "metadata": {},
   "source": [
    "### Degrees of Freedom"
   ]
  },
  {
   "cell_type": "code",
   "execution_count": 11,
   "id": "2b7db137",
   "metadata": {},
   "outputs": [
    {
     "name": "stdout",
     "output_type": "stream",
     "text": [
      "degrees of freedom b/w groups: 2\n",
      "degrees of freedom within groups: 12\n",
      "total_degrees of freedom: 14\n"
     ]
    }
   ],
   "source": [
    "no_of_groups = 3\n",
    "degrees_of_freedom_between_groups = no_of_groups -1\n",
    "total_no_of_values = 15\n",
    "degrees_of_freedom_within_groups =  total_no_of_values - no_of_groups\n",
    "total_degrees_of_freedom = total_no_of_values -1\n",
    "\n",
    "print(\"degrees of freedom b/w groups:\", degrees_of_freedom_between_groups)\n",
    "print(\"degrees of freedom within groups:\",degrees_of_freedom_within_groups)\n",
    "print(\"total_degrees of freedom:\",total_degrees_of_freedom)"
   ]
  },
  {
   "cell_type": "code",
   "execution_count": null,
   "id": "ed35ecb4",
   "metadata": {},
   "outputs": [],
   "source": []
  }
 ],
 "metadata": {
  "kernelspec": {
   "display_name": "Python 3 (ipykernel)",
   "language": "python",
   "name": "python3"
  },
  "language_info": {
   "codemirror_mode": {
    "name": "ipython",
    "version": 3
   },
   "file_extension": ".py",
   "mimetype": "text/x-python",
   "name": "python",
   "nbconvert_exporter": "python",
   "pygments_lexer": "ipython3",
   "version": "3.9.13"
  }
 },
 "nbformat": 4,
 "nbformat_minor": 5
}
